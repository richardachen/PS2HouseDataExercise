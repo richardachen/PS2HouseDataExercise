{
  "nbformat": 4,
  "nbformat_minor": 0,
  "metadata": {
    "colab": {
      "name": "PS2HousesPredictionPrices.ipynb",
      "provenance": [],
      "collapsed_sections": [],
      "authorship_tag": "ABX9TyMRYstAHxevxUrKz/oGCMsU",
      "include_colab_link": true
    },
    "kernelspec": {
      "name": "python3",
      "display_name": "Python 3"
    },
    "language_info": {
      "name": "python"
    }
  },
  "cells": [
    {
      "cell_type": "markdown",
      "metadata": {
        "id": "view-in-github",
        "colab_type": "text"
      },
      "source": [
        "<a href=\"https://colab.research.google.com/github/richardachen/PS2HouseDataExercise/blob/master/PS2HousesPredictionPrices.ipynb\" target=\"_parent\"><img src=\"https://colab.research.google.com/assets/colab-badge.svg\" alt=\"Open In Colab\"/></a>"
      ]
    },
    {
      "cell_type": "code",
      "execution_count": null,
      "metadata": {
        "id": "PS-dW7hwKjwb"
      },
      "outputs": [],
      "source": [
        "import pandas as pd\n",
        "import numpy as np\n",
        "from sklearn import linear_model\n",
        "\n",
        "# url for the training data csv file\n",
        "url = 'https://raw.githubusercontent.com/richardachen/PS2HouseDataExercise/master/train.csv'\n",
        "\n",
        "houses = pd.read_csv(url)"
      ]
    },
    {
      "cell_type": "code",
      "source": [
        "# https://drive.google.com/file/d/1byVJh3DNqpUvT28Euu1sG1Hc2bSKg9kG/view\n",
        "\n",
        "#select only numerical data types for use \n",
        "numeric = houses.select_dtypes(include=[np.number])\n",
        "\n",
        "# drop columns containing NaN values\n",
        "numeric = numeric.dropna(axis = 1)"
      ],
      "metadata": {
        "id": "80lcbFMQKzZg"
      },
      "execution_count": null,
      "outputs": []
    },
    {
      "cell_type": "code",
      "source": [
        "# https://stackoverflow.com/questions/29576430/shuffle-dataframe-rows\n",
        "\n",
        "# shuffle dataframe rows, in case there was some grouping of rows in the original dataframe\n",
        "numeric = numeric.sample(frac=1).reset_index(drop=True)\n",
        "\n",
        "# use 900 rows for training, 100 for validation\n",
        "train = numeric[0:900]\n",
        "corr = train.corr()\n",
        "validate = numeric[900:1000]\n",
        "\n",
        "max_score = 0\n",
        "preferred_depth = 0\n",
        "\n",
        "# optimize for the best number of parameters to take in\n",
        "for i in range(2,len(corr)):\n",
        "  cols = corr['SalePrice'].sort_values(ascending = False)[0:i].index\n",
        "\n",
        "  # get a dataframe with only the top i correlated columns\n",
        "  train_params = train[cols]\n",
        "\n",
        "  Y = train_params['SalePrice']\n",
        "  X = train_params.drop(['SalePrice'], axis = 1)\n",
        "\n",
        "  # fit the linear model with the new filtered dataframe\n",
        "  lr = linear_model.LinearRegression()\n",
        "  model = lr.fit(X,Y)\n",
        "\n",
        "  # predict on the validation dataset\n",
        "  valid_params = validate[cols]\n",
        "  W = valid_params['SalePrice']\n",
        "  Z = valid_params.drop(['SalePrice'], axis = 1)\n",
        "\n",
        "  if model.score(Z,W) > max_score:\n",
        "    preferred_depth = i\n",
        "    max_score = model.score(Z,W)\n",
        "\n",
        "print(preferred_depth)\n",
        "print(max_score)\n"
      ],
      "metadata": {
        "colab": {
          "base_uri": "https://localhost:8080/"
        },
        "id": "dmH0470Rs6gb",
        "outputId": "84f66f81-fdc3-4b24-abef-baf08b1f50ab"
      },
      "execution_count": null,
      "outputs": [
        {
          "output_type": "stream",
          "name": "stdout",
          "text": [
            "34\n",
            "0.7935801776210235\n"
          ]
        }
      ]
    },
    {
      "cell_type": "code",
      "source": [
        "from google.colab import drive\n",
        "drive.mount('/content/drive')"
      ],
      "metadata": {
        "colab": {
          "base_uri": "https://localhost:8080/"
        },
        "id": "cWdykHHaWfaj",
        "outputId": "a6fde889-3aeb-4903-df8a-ebeb96787826"
      },
      "execution_count": null,
      "outputs": [
        {
          "output_type": "stream",
          "name": "stdout",
          "text": [
            "Mounted at /content/drive\n"
          ]
        }
      ]
    },
    {
      "cell_type": "code",
      "source": [
        "import csv\n",
        "\n",
        "# now that we know the best depth to use, we can implement the best performing model\n",
        "cols = corr['SalePrice'].sort_values(ascending = False)[0:preferred_depth].index\n",
        "best_params = train[cols]\n",
        "\n",
        "Y = best_params['SalePrice']\n",
        "X = best_params.drop(['SalePrice'], axis = 1)\n",
        "lr = linear_model.LinearRegression()\n",
        "model = lr.fit(X,Y)\n",
        "\n",
        "# Load in test dataset\n",
        "test_url = 'https://raw.githubusercontent.com/richardachen/PS2HouseDataExercise/master/corrected_test.csv'\n",
        "\n",
        "test_houses = pd.read_csv(test_url)\n",
        "\n",
        "test_cols = cols.drop('SalePrice')\n",
        "test_cols\n",
        "\n",
        "# Apply predictive model to our test dataset\n",
        "test_best_params = test_houses[test_cols]\n",
        "test_best_params\n",
        "predictions = model.predict(test_best_params)\n",
        "\n",
        "# https://www.pythontutorial.net/python-basics/python-write-csv-file/\n",
        "# Write predictions into a new csv file\n",
        "f = open('/content/drive/MyDrive/Spring 2022/1.00/test_house_predict.csv', 'w')\n",
        "writer = csv.writer(f)\n",
        "writer.writerow(['Id', 'SalePrice'])\n",
        "for i in range(len(predictions)):\n",
        "  writer.writerow([test_best_params.iloc[i]['Id'],predictions[i]])"
      ],
      "metadata": {
        "id": "BZNTiCZjSNnz"
      },
      "execution_count": null,
      "outputs": []
    },
    {
      "cell_type": "markdown",
      "source": [
        ""
      ],
      "metadata": {
        "id": "fh2yvgTlSCtp"
      }
    }
  ]
}